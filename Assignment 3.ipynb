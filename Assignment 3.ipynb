{
 "cells": [
  {
   "cell_type": "markdown",
   "metadata": {},
   "source": [
    "# Assignment 3"
   ]
  },
  {
   "cell_type": "markdown",
   "metadata": {},
   "source": [
    "### Write a function to count the number 4 in a given list."
   ]
  },
  {
   "cell_type": "code",
   "execution_count": null,
   "metadata": {
    "collapsed": true
   },
   "outputs": [],
   "source": [
    "def list_count_4(nums):\n",
    "  count = 0  \n",
    "  for num in nums:\n",
    "    if num == 4:\n",
    "      count = count + 1\n",
    "\n",
    "  return count\n",
    "\n",
    "print(list_count_4([1, 4, 6, 7, 4]))\n",
    "print(list_count_4([1, 4, 6, 4, 7, 4]))"
   ]
  },
  {
   "cell_type": "markdown",
   "metadata": {},
   "source": [
    "### write a  function to check whether a number is divisible by another number."
   ]
  },
  {
   "cell_type": "code",
   "execution_count": null,
   "metadata": {
    "collapsed": true
   },
   "outputs": [],
   "source": [
    "\n",
    "num1 = int(input(\"Enter First  Number  \"))\n",
    "num2 = int(input(\"Enter Second Number \"))\n",
    "# checking divisibilty.\n",
    "if num1%num2==0:\n",
    "  print(\"\\n\" +str(num1)+ \" is divisible by \" +str(num2))\n",
    "else:\n",
    "  print(\"\\n\" +str(num1)+ \" is not divisible by \" +str(num2))"
   ]
  },
  {
   "cell_type": "markdown",
   "metadata": {},
   "source": [
    "### write a function to find the maximum and minimum numbers from a sequence of numbers."
   ]
  },
  {
   "cell_type": "code",
   "execution_count": null,
   "metadata": {
    "collapsed": true
   },
   "outputs": [],
   "source": [
    "def max_min(data):\n",
    "  l = data[0]\n",
    "  s = data[0]\n",
    "  for num in data:\n",
    "    if num> l:\n",
    "      l = num\n",
    "    elif num< s:\n",
    "        s = num\n",
    "  return l, s\n",
    "\n",
    "print(max_min([2080, 120, 5, -40, -885, -542, 127, 8, 75]))"
   ]
  },
  {
   "cell_type": "markdown",
   "metadata": {},
   "source": [
    "### Write a Python function that takes two lists and returns True if they have at least one common member."
   ]
  },
  {
   "cell_type": "code",
   "execution_count": null,
   "metadata": {
    "collapsed": true
   },
   "outputs": [],
   "source": [
    "def common_data(list1, list2):\n",
    "     result = False\n",
    "     for x in list1:\n",
    "         for y in list2:\n",
    "             if x == y:\n",
    "                 result = True\n",
    "                 return result\n",
    "print(common_data([1,2,3,4,5], [5,6,7,8,9]))\n",
    "print(common_data([1,2,3,4,5], [6,7,8,9]))\n"
   ]
  },
  {
   "cell_type": "markdown",
   "metadata": {},
   "source": [
    "### Write a Python function to calculate the factorial of a number (a non-negative integer). The function accepts the number from the user"
   ]
  },
  {
   "cell_type": "code",
   "execution_count": null,
   "metadata": {
    "collapsed": true
   },
   "outputs": [],
   "source": [
    "def factorial(n):\n",
    "    if n == 0:\n",
    "        return 1\n",
    "    else:\n",
    "        return n * factorial(n-1)\n",
    "n=int(input(\"Input a number to compute the factiorial : \"))\n",
    "print(factorial(n))\n"
   ]
  },
  {
   "cell_type": "markdown",
   "metadata": {},
   "source": [
    "### Write a Python function to check whether a number is in a given range.\n",
    "\n",
    "### The range is from 3 to 11\n"
   ]
  },
  {
   "cell_type": "code",
   "execution_count": null,
   "metadata": {
    "collapsed": true
   },
   "outputs": [],
   "source": [
    "def test_range(n):\n",
    "    if n in range(3,11):\n",
    "        print( \" %s is in the range\"%str(n))\n",
    "    else :\n",
    "        print(\"The number is outside the given range.\")\n",
    "e=int(input(\"Enter the number: \"))\n",
    "test_range(e)"
   ]
  },
  {
   "cell_type": "markdown",
   "metadata": {},
   "source": [
    "### Write a  program to create the multiplication table (from 1 to 10) of a number."
   ]
  },
  {
   "cell_type": "code",
   "execution_count": null,
   "metadata": {
    "collapsed": true
   },
   "outputs": [],
   "source": [
    "n = int(input(\"Input a number: \"))\n",
    "\n",
    "# use for loop to iterate 10 times\n",
    "for i in range(1,11):\n",
    "   print(n,'x',i,'=',n*i)"
   ]
  },
  {
   "cell_type": "markdown",
   "metadata": {},
   "source": [
    "#### LESSER OF TWO EVENS: Write a function that returns the lesser of two given numbers *if* both numbers are even, but returns the greater if one or both numbers are odd\n",
    "    lesser_of_two_evens(2,4) --> 2\n",
    "    lesser_of_two_evens(2,5) --> 5"
   ]
  },
  {
   "cell_type": "code",
   "execution_count": null,
   "metadata": {},
   "outputs": [],
   "source": [
    "def lesser_of_two_evens(a,b):\n",
    "    if a % 2 and b % 2:\n",
    "        if b < a:\n",
    "            return a\n",
    "        if a > b:\n",
    "            return b\n",
    "    else:\n",
    "        if a < b:\n",
    "            return b\n",
    "        else:\n",
    "            return a"
   ]
  },
  {
   "cell_type": "markdown",
   "metadata": {},
   "source": [
    "#### ANIMAL CRACKERS: Write a function takes a two-word string and returns True if both words begin with same letter\n",
    "    animal_crackers('Levelheaded Llama') --> True\n",
    "    animal_crackers('Crazy Kangaroo') --> False"
   ]
  },
  {
   "cell_type": "code",
   "execution_count": null,
   "metadata": {},
   "outputs": [],
   "source": [
    "def animal_crackers(string):\n",
    "    s1, s2 = string.split(' ')\n",
    "    print(s1[0].upper() == s2[0].upper())\n",
    "p=input(\"Enter the name:\")\n",
    "animal_crackers(p)"
   ]
  },
  {
   "cell_type": "markdown",
   "metadata": {},
   "source": [
    "#### MAKES TWENTY: Given two integers, return True if the sum of the integers is 20 *or* if one of the integers is 20. If not, return False\n",
    "\n",
    "    makes_twenty(20,10) --> True\n",
    "    makes_twenty(12,8) --> True\n",
    "    makes_twenty(2,3) --> False"
   ]
  },
  {
   "cell_type": "code",
   "execution_count": null,
   "metadata": {},
   "outputs": [],
   "source": [
    "def makes_twenty(n1,n2):\n",
    "    if n1 + n2 == 20:\n",
    "        return True\n",
    "    else:\n",
    "        return n1 == 20 or n2 == 20\n",
    "n1=int(input(\"Enter the first integer\"))\n",
    "n2=int(input(\"Enter the second integer\"))\n",
    "makes_twenty(n1,n2)"
   ]
  },
  {
   "cell_type": "markdown",
   "metadata": {},
   "source": [
    "#### ALMOST THERE: Given an integer n, return True if n is within 10 of either 100 or 200\n",
    "\n",
    "    almost_there(90) --> True\n",
    "    almost_there(104) --> True\n",
    "    almost_there(150) --> False\n",
    "    almost_there(209) --> True\n",
    "    \n",
    "NOTE: `abs(num)` returns the absolute value of a number"
   ]
  },
  {
   "cell_type": "code",
   "execution_count": null,
   "metadata": {},
   "outputs": [],
   "source": [
    "def almost_there(n):\n",
    "    return abs(100 - n ) <= 10 or abs(200 - n) <= 10"
   ]
  },
  {
   "cell_type": "markdown",
   "metadata": {},
   "source": [
    "#### BLACKJACK: Given three integers between 1 and 11, if their sum is less than or equal to 21, return their sum. If their sum exceeds 21 *and* there's an eleven, reduce the total sum by 10. Finally, if the sum  exceeds 21, return 'BUST'\n",
    "    blackjack(5,6,7) --> 18\n",
    "    blackjack(9,9,9) --> 'BUST'\n",
    "    blackjack(9,9,11) --> 19"
   ]
  },
  {
   "cell_type": "code",
   "execution_count": null,
   "metadata": {},
   "outputs": [],
   "source": [
    "def blackjack(a,b,c):\n",
    "    if a + b + c <= 21:\n",
    "        return a + b + c\n",
    "    elif (a+b+c) > 21 and (a == 11 or b == 11 or c == 11):\n",
    "        return a+b+c -10\n",
    "    else:\n",
    "        return 'BUST'"
   ]
  }
 ],
 "metadata": {
  "kernelspec": {
   "display_name": "Python 3",
   "language": "python",
   "name": "python3"
  },
  "language_info": {
   "codemirror_mode": {
    "name": "ipython",
    "version": 3
   },
   "file_extension": ".py",
   "mimetype": "text/x-python",
   "name": "python",
   "nbconvert_exporter": "python",
   "pygments_lexer": "ipython3",
   "version": "3.8.5"
  }
 },
 "nbformat": 4,
 "nbformat_minor": 2
}
